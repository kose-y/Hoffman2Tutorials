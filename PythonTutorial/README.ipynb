{
 "cells": [
  {
   "cell_type": "markdown",
   "id": "409066e9",
   "metadata": {},
   "source": [
    "# Hoffman2 Python Tutorial\n",
    "\n",
    "For basic information on Hoffman2, including submitting jobs, check job status, resources available, transfering files, and other general information, refer to the general guide <https://github.com/chris-german/Hoffman2Tutorials>.\n",
    "\n",
    "This instruction is run using [`h2jupynb`](https://raw.githubusercontent.com/rdauria/jupyter-notebook/main/h2jupynb) script. On your terminal, save the linked python script, and you can run `python h2jupynb`. After typing in your password a couple of times, you will be running a Jupyter Notebook on Hoffman2. This is on a computer node. Keep your eyes on command-line arguments for the script; you can request GPU, more memory, more cores, etc. "
   ]
  },
  {
   "cell_type": "markdown",
   "id": "299541cc",
   "metadata": {},
   "source": [
    "## Available Python Versions\n",
    "\n",
    "There are several versions of Python on the cluster, with more up-to-date ones being installed as they are released and requested. \n",
    "\n",
    "We have a number of python versions installed:"
   ]
  },
  {
   "cell_type": "code",
   "execution_count": 1,
   "id": "a926cbdd",
   "metadata": {},
   "outputs": [
    {
     "name": "stdout",
     "output_type": "stream",
     "text": [
      "------------------------- \u001b[1;94m/u/local/Modules/modulefiles\u001b[0m -------------------------\u001b[m\r\n",
      "\u001b[1mpython\u001b[22m/2.7.15  \u001b[1mpython\u001b[22m/2.7.18  \u001b[1mpython\u001b[22m/3.6.8  \u001b[1mpython\u001b[22m/3.7.3  \u001b[4;90;47;1mpython\u001b[0;4;90;47m/3.9.6\u001b[0m  \u001b[m\r\n",
      "\u001b[m\r\n",
      "Key:\u001b[m\r\n",
      "\u001b[90;47mloaded\u001b[0m  \u001b[1;94mmodulepath\u001b[0m  \u001b[4mdefault-version\u001b[0m  \u001b[m\r\n",
      "\u001b[K\u001b[?1l\u001b>"
     ]
    }
   ],
   "source": [
    "!module avail python"
   ]
  },
  {
   "cell_type": "markdown",
   "id": "d16f064f",
   "metadata": {},
   "source": [
    "And anaconda distributions are available as well, where you will be able to build your own environment from."
   ]
  },
  {
   "cell_type": "code",
   "execution_count": 3,
   "id": "61481c14",
   "metadata": {},
   "outputs": [
    {
     "name": "stdout",
     "output_type": "stream",
     "text": [
      "------------------------- \u001b[1;94m/u/local/Modules/modulefiles\u001b[0m -------------------------\u001b[m\r\n",
      "\u001b[1manaconda\u001b[22m2/2019.10  \u001b[4m\u001b[1manaconda\u001b[22m3/2020.11\u001b[0m  \u001b[1manaconda\u001b[22m3/2022.05  \u001b[m\r\n",
      "\u001b[1manaconda\u001b[22m3/2020.07  \u001b[1manaconda\u001b[22m3/2021.11  \u001b[1manaconda\u001b[22m3/2023.03  \u001b[m\r\n",
      "\u001b[m\r\n",
      "Key:\u001b[m\r\n",
      "\u001b[1;94mmodulepath\u001b[0m  \u001b[4mdefault-version\u001b[0m  \u001b[m\r\n",
      "\u001b[K\u001b[?1l\u001b>"
     ]
    }
   ],
   "source": [
    "!module avail anaconda"
   ]
  },
  {
   "cell_type": "markdown",
   "id": "04ca6461",
   "metadata": {},
   "source": [
    "## Loading Software\n",
    "\n",
    "To load a module, say anaconda3 2023.03:"
   ]
  },
  {
   "cell_type": "code",
   "execution_count": 4,
   "id": "b80ea5ed",
   "metadata": {},
   "outputs": [],
   "source": [
    "!module load anaconda3/2023.03"
   ]
  },
  {
   "cell_type": "markdown",
   "id": "d12c350b",
   "metadata": {},
   "source": [
    "If you are going to need packages installed for your use on Hoffman2, load anaconda module, activate your environment, and then install the packges. \n",
    "\n",
    "Note: If you ssh to `hoffman2.idre.ucla.edu`, this will be on the login node, where computing power is limited so you should not run any analyses on this node. Instead, you run analyses on a compute node. "
   ]
  },
  {
   "cell_type": "markdown",
   "id": "a38f2f28",
   "metadata": {},
   "source": [
    "## Accessing a compute node\n",
    "\n",
    "### qsub\n",
    "\n",
    "For most analyses/jobs you'd like to run on Hoffman2, you should use the `qsub` command. This submits a batch job to the queue (scheduler). The type of file you `qsub` has to have a specific format (batch script).\n"
   ]
  },
  {
   "cell_type": "markdown",
   "id": "958c36a3",
   "metadata": {},
   "source": [
    "Then we might want to use this bash script, with configurations on the top of the file."
   ]
  },
  {
   "cell_type": "code",
   "execution_count": 31,
   "id": "1d39e1de",
   "metadata": {},
   "outputs": [
    {
     "name": "stdout",
     "output_type": "stream",
     "text": [
      "#!/bin/bash\r\n",
      "#$ -cwd #uses current working directory\r\n",
      "# error = Merged with joblog\r\n",
      "#$ -o joblog.$JOB_ID #creates a file called joblog.jobidnumber to write to. \r\n",
      "#$ -j y \r\n",
      "#$ -l h_rt=0:30:00,h_data=2G #requests 30 minutes, 2GB of data (per core)\r\n",
      "#$ -pe shared 2 #requests 2 cores\r\n",
      "# Email address to notify\r\n",
      "#$ -M $USER@mail #don't change this line, finds your email in the system \r\n",
      "# Notify when\r\n",
      "#$ -m bea #sends you an email (b) when the job begins (e) when job ends (a) when job is aborted (error)\r\n",
      "\r\n",
      "# load the job environment:\r\n",
      ". /u/local/Modules/default/init/modules.sh\r\n",
      "module load anaconda #loads anaconda for use \r\n",
      "\r\n",
      "# run Python code\r\n",
      "echo 'Running runSim.py' #prints this quote to joblog.jobidnumber\r\n",
      "python runSim.py 100 100 123 > output.$JOB_ID 2>&1\r\n",
      "# command-line arguments: number of samples, number of repetitions, seed\r\n",
      "# outputs any text (stdout and stderr) to output.$JOB_ID\r\n"
     ]
    }
   ],
   "source": [
    "!cat submit.sh"
   ]
  },
  {
   "cell_type": "markdown",
   "id": "e788d528",
   "metadata": {},
   "source": [
    "To send this script to the scheduler to run on a compute node, you would simply type:"
   ]
  },
  {
   "cell_type": "code",
   "execution_count": 32,
   "id": "57935eb2",
   "metadata": {},
   "outputs": [
    {
     "name": "stdout",
     "output_type": "stream",
     "text": [
      "Your job 3422570 (\"submit.sh\") has been submitted\r\n"
     ]
    }
   ],
   "source": [
    "!qsub submit.sh"
   ]
  },
  {
   "cell_type": "markdown",
   "id": "22e7c9eb",
   "metadata": {},
   "source": [
    "### qrsh\n",
    "\n",
    "For some analyses, you may want to do things interactively instead of just submitting jobs. The `qrsh` command is for loading you onto an interactive compute node. \n",
    "\n",
    "Typing `qrsh` on the Hoffman2 login node will submit a request for an interactive session. By default, the session will run for two hours and the physical memory alotted will be 1GB.\n",
    "\n",
    "To request more, you can use the commmand\n",
    "```{bash}\n",
    "qrsh -l h_rt=4:00:00,h_data=4G\n",
    "```\n",
    "\n",
    "This will request a four hour session where the maximum physical memory is 4GB. \n",
    "If you'd like to use more than one CPU core for your job, add `-pe shared #` to the end. Note, the amount of memory requested will be for each core. For example, if you'd like to request 4 CPU cores, each with 2GB of memory for a total of 8GB for 5 hours, run:\n",
    "```{bash}\n",
    "qrsh -l h_rt=5:00:00,h_data=2G -pe shared 4\n",
    "```\n",
    "The more time and memory you request, the longer you will have to wait for an interactive compute node to become available to you. It's normal to wait a few minutes to get an interactive session. \n",
    "\n",
    "__Note__: If you run the `h2jupynb` script, your request is going through the `qrsh` command. "
   ]
  },
  {
   "cell_type": "markdown",
   "id": "3b238b4b",
   "metadata": {},
   "source": [
    "## Resource limitations\n",
    "\n",
    "The maximum time for a session is 24 hours unless you're working in a group that owns their compute nodes. So do not have an `h_rt` value greated than `h_rt=24:00:00`.\n",
    "\n",
    "Different compute nodes have different amounts of memory. There are fewer nodes with lots of memory, so the larger the amount of memory you're requesting the longer you will have to wait for the job to start running. If you request too much, the job may never run. \n",
    "\n",
    "Requesting more than 4 cores for an interactive session can possibly take a long time for the interactive session to start. "
   ]
  },
  {
   "cell_type": "markdown",
   "id": "bade5d61",
   "metadata": {},
   "source": [
    "## A single simulation run\n",
    "\n",
    "The sample Python script [`runSim.py`](./runSim.py) runs a simulation study to estimate mean and standard deviation of a standard normal distribution. In each replicate, it generates a random vector of sample size `n`, a normal distribution, and using seed `s`. There are `reps` replicates. Values of `n`, `s`, and `reps` are defined by command-line arguments.\n"
   ]
  },
  {
   "cell_type": "code",
   "execution_count": 34,
   "id": "69b4ece0",
   "metadata": {},
   "outputs": [
    {
     "name": "stdout",
     "output_type": "stream",
     "text": [
      "import sys\r\n",
      "import os\r\n",
      "import numpy as np\r\n",
      "\r\n",
      "# number of samples per repeat\r\n",
      "n = int(sys.argv[1])\r\n",
      "# number of repetition\r\n",
      "reps = int(sys.argv[2])\r\n",
      "\r\n",
      "# seed\r\n",
      "seed = int(sys.argv[3])\r\n",
      "\r\n",
      "# create folder if it does not exist\r\n",
      "path = \"simresults/\"\r\n",
      "if not os.path.exists(path):\r\n",
      "    os.makedirs(path)\r\n",
      "\r\n",
      "oFile = f\"simresults/n_{n}_reps_{reps}_seed_{seed}.txt\"\r\n",
      "\r\n",
      "# Simulate `reps` replicates of sample size `n` from distribution `d` using seed `seed`\r\n",
      "\r\n",
      "np.random.seed(seed)\r\n",
      "simres = np.zeros((reps, 2))\r\n",
      "for r in range(reps):\r\n",
      "    x = np.random.randn(n)\r\n",
      "    simres[r, 0] = np.mean(x)\r\n",
      "    simres[r, 1] = np.std(x)\r\n",
      "\r\n",
      "np.savetxt(oFile, simres, delimiter=\",\")\r\n"
     ]
    }
   ],
   "source": [
    "!cat runSim.py"
   ]
  },
  {
   "cell_type": "markdown",
   "id": "6047f8e8",
   "metadata": {},
   "source": [
    "To run this simulation from command line, user needs pass value for `n`, `reps`, and `s` via command-line argument. For example,\n",
    "```{bash, eval=FALSE}\n",
    "module load anaconda\n",
    "python runSim.py 100 100 123\n",
    "# command-line arguments: number of samples, number of repetitions, seed, command to create n samples\n",
    "```\n",
    "We can submit it to a compute node using the script [`submit.sh`](./submit.sh)\n",
    "```{bash, eval=F}\n",
    "qsub submit.sh\n",
    "```\n",
    "\n",
    "After the job is done, we can examine that the results have been written to the txt file.\n"
   ]
  },
  {
   "cell_type": "code",
   "execution_count": 35,
   "id": "ff638cc1",
   "metadata": {},
   "outputs": [
    {
     "name": "stdout",
     "output_type": "stream",
     "text": [
      "5.980830814078975932e-02,7.519756036909285291e-01\r\n",
      "1.776306496855655781e-01,9.076540062468508863e-01\r\n",
      "3.565352174694761400e-01,1.338380042592697938e+00\r\n",
      "9.305068510709016416e-02,6.833545782462973062e-01\r\n",
      "-1.745937595661832265e-01,5.120914533249217859e-01\r\n",
      "4.314985035350349385e-01,8.053695403228237071e-01\r\n",
      "-1.770132344449889539e-01,7.275438117945736138e-01\r\n",
      "1.605084543836911848e-01,1.079781951887012648e+00\r\n",
      "-1.979238315021951411e-01,1.371812535024111046e+00\r\n",
      "6.466563656045878905e-02,8.894817873225754346e-01\r\n"
     ]
    }
   ],
   "source": [
    "!head simresults/n_10_reps_10_seed_10.txt"
   ]
  },
  {
   "cell_type": "markdown",
   "id": "b77d29cd",
   "metadata": {},
   "source": [
    "If you experience an error, you can take a look at the `output.####` file that was generated. This files indicates any output generated in Python. "
   ]
  },
  {
   "cell_type": "markdown",
   "id": "682daa14",
   "metadata": {},
   "source": [
    "## Multiple simulation runs\n",
    "\n",
    "In a typical simulation study, we vary the values of different simulation factors such as sample size, generative model, effect size, and so on. We can write a job script with jobarray setup to manage multiple simulations. It's easy to set up and perform embarrasingly parallel simulation tasks.\n",
    "\n",
    "The syntax depends on the scheduling system. On UCLA's Hoffman2 cluster, `qsub` is used. In [`submit_array.sh`](./submit_array.sh), we loop over sample sizes `n` (100, 200, ..., 500). [`run_arrays.sh`](./run_arrays.sh) contains commands to submit multiple arrays with different seeds.\n"
   ]
  },
  {
   "cell_type": "code",
   "execution_count": 36,
   "id": "4d3d92d3",
   "metadata": {},
   "outputs": [
    {
     "name": "stdout",
     "output_type": "stream",
     "text": [
      "#!/bin/bash\r\n",
      "#$ -cwd #uses current working directory\r\n",
      "# error = Merged with joblog\r\n",
      "#$ -o joblog.$JOB_ID.$TASK_ID #creates a file called joblog.jobidnumber.taskidnumber to write to. \r\n",
      "#$ -j y \r\n",
      "#$ -l h_rt=0:30:00,h_data=2G #requests 30 minutes, 2GB of data (per core)\r\n",
      "#$ -pe shared 2 #requests 2 cores\r\n",
      "# Email address to notify\r\n",
      "#$ -M $USER@mail #don't change this line, finds your email in the system \r\n",
      "# Notify when\r\n",
      "#$ -m bea #sends you an email (b) when the job begins (e) when job ends (a) when job is aborted (error)\r\n",
      "#$ -t 100-500:100 # 100 to 500, with step size of 100\r\n",
      "\r\n",
      "# load the job environment:\r\n",
      ". /u/local/Modules/default/init/modules.sh\r\n",
      "module load anaconda\r\n",
      "\r\n",
      "echo ${SGE_TASK_ID}\r\n",
      "# run python code\r\n",
      "echo Running runSim.py for n = ${SGE_TASK_ID} #prints this quote to joblog.jobidnumber\r\n",
      "python runSim.py ${SGE_TASK_ID} 100 $1 > output.$JOB_ID.${SGE_TASK_ID} 2>&1\r\n"
     ]
    }
   ],
   "source": [
    "!cat submitarray.sh"
   ]
  },
  {
   "cell_type": "code",
   "execution_count": 38,
   "id": "90c4693b",
   "metadata": {},
   "outputs": [
    {
     "name": "stdout",
     "output_type": "stream",
     "text": [
      "qsub submit_array.sh 123\r\n",
      "qsub submit_array.sh 456\r\n",
      "qsub submit_array.sh 789\r\n",
      "qsub submit_array.sh 987\r\n"
     ]
    }
   ],
   "source": [
    "!cat runarrays.sh"
   ]
  },
  {
   "cell_type": "markdown",
   "id": "37f6f221",
   "metadata": {},
   "source": [
    "So on the cluster we just need to run\n"
   ]
  },
  {
   "cell_type": "code",
   "execution_count": 41,
   "id": "db64f8b2",
   "metadata": {},
   "outputs": [
    {
     "name": "stdout",
     "output_type": "stream",
     "text": [
      "Your job-array 3422834.100-500:100 (\"submitarray.sh\") has been submitted\n",
      "Your job-array 3422835.100-500:100 (\"submitarray.sh\") has been submitted\n",
      "Your job-array 3422839.100-500:100 (\"submitarray.sh\") has been submitted\n",
      "Your job-array 3422842.100-500:100 (\"submitarray.sh\") has been submitted\n"
     ]
    }
   ],
   "source": [
    "!bash runarrays.sh"
   ]
  },
  {
   "cell_type": "markdown",
   "id": "b162b3c6",
   "metadata": {},
   "source": [
    "You can check on the state of your current jobs by running:\n"
   ]
  },
  {
   "cell_type": "code",
   "execution_count": 42,
   "id": "c9240247",
   "metadata": {},
   "outputs": [
    {
     "name": "stdout",
     "output_type": "stream",
     "text": [
      "job-ID     prior   name       user         state submit/start at     queue                          jclass                         slots ja-task-ID \r\n",
      "------------------------------------------------------------------------------------------------------------------------------------------------\r\n",
      "   3422421 0.50001 JUPYNB     kose         r     06/04/2024 12:16:05 msa_smp.q@n7070                                                   1        \r\n"
     ]
    }
   ],
   "source": [
    "!myjob"
   ]
  },
  {
   "cell_type": "code",
   "execution_count": 43,
   "id": "847c1cdd",
   "metadata": {},
   "outputs": [
    {
     "name": "stdout",
     "output_type": "stream",
     "text": [
      "simresults/n_100_reps_10.txt  simresults/n_10_reps_10_seed_10.txt\r\n"
     ]
    }
   ],
   "source": [
    "!ls simresults/*.txt"
   ]
  }
 ],
 "metadata": {
  "kernelspec": {
   "display_name": "Python 3 (ipykernel)",
   "language": "python",
   "name": "python3"
  },
  "language_info": {
   "codemirror_mode": {
    "name": "ipython",
    "version": 3
   },
   "file_extension": ".py",
   "mimetype": "text/x-python",
   "name": "python",
   "nbconvert_exporter": "python",
   "pygments_lexer": "ipython3",
   "version": "3.9.6"
  }
 },
 "nbformat": 4,
 "nbformat_minor": 5
}
